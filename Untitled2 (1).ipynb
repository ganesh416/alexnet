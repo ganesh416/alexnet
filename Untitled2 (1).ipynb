{
  "nbformat": 4,
  "nbformat_minor": 0,
  "metadata": {
    "colab": {
      "name": "Untitled2.ipynb",
      "provenance": []
    },
    "kernelspec": {
      "name": "python3",
      "display_name": "Python 3"
    },
    "language_info": {
      "name": "python"
    },
    "accelerator": "GPU"
  },
  "cells": [
    {
      "cell_type": "code",
      "metadata": {
        "id": "tJsn52jCIpLM"
      },
      "source": [
        "!pip install -q keras\n"
      ],
      "execution_count": 1,
      "outputs": []
    },
    {
      "cell_type": "code",
      "metadata": {
        "id": "Y68dqRbXJ5Ei"
      },
      "source": [
        "import keras\n",
        "import pandas as pd\n",
        "import numpy as np\n",
        "import matplotlib.pyplot as plt\n",
        "import os"
      ],
      "execution_count": 2,
      "outputs": []
    },
    {
      "cell_type": "code",
      "metadata": {
        "id": "h0FNvcFWKabA"
      },
      "source": [
        "data_path=os.listdir('/content/drive/MyDrive/Colab Notebooks/kaggle_dataset/dataset')"
      ],
      "execution_count": 3,
      "outputs": []
    },
    {
      "cell_type": "code",
      "metadata": {
        "colab": {
          "base_uri": "https://localhost:8080/"
        },
        "id": "uaKcyi5wK6oY",
        "outputId": "495e876e-3f2d-4de4-e204-dd08ac9ef567"
      },
      "source": [
        "print(data_path)"
      ],
      "execution_count": 4,
      "outputs": [
        {
          "output_type": "stream",
          "text": [
            "['happy', 'unhappy']\n"
          ],
          "name": "stdout"
        }
      ]
    },
    {
      "cell_type": "code",
      "metadata": {
        "id": "Tllg4oPVLApV"
      },
      "source": [
        "roomtypes=os.listdir('/content/drive/MyDrive/Colab Notebooks/kaggle_dataset/dataset')"
      ],
      "execution_count": 5,
      "outputs": []
    },
    {
      "cell_type": "code",
      "metadata": {
        "colab": {
          "base_uri": "https://localhost:8080/"
        },
        "id": "qxax0Ud4MpoQ",
        "outputId": "7a78e456-51cb-4620-f58a-e631fb58f52a"
      },
      "source": [
        "path='/content/drive/MyDrive/Colab Notebooks/kaggle_dataset/dataset'\n",
        "rooms=[]\n",
        "for item in roomtypes:\n",
        "  all_rooms=os.listdir(path+'/'+item)\n",
        "  for room in all_rooms:\n",
        "    s=(item, str(path+'/'+item)+'/'+room)\n",
        "    rooms.append(s)\n",
        "rooms"
      ],
      "execution_count": 6,
      "outputs": [
        {
          "output_type": "execute_result",
          "data": {
            "text/plain": [
              "[('happy',\n",
              "  '/content/drive/MyDrive/Colab Notebooks/kaggle_dataset/dataset/happy/2.jpg'),\n",
              " ('happy',\n",
              "  '/content/drive/MyDrive/Colab Notebooks/kaggle_dataset/dataset/happy/1.jpg'),\n",
              " ('happy',\n",
              "  '/content/drive/MyDrive/Colab Notebooks/kaggle_dataset/dataset/happy/3.jpg'),\n",
              " ('happy',\n",
              "  '/content/drive/MyDrive/Colab Notebooks/kaggle_dataset/dataset/happy/4.jpg'),\n",
              " ('happy',\n",
              "  '/content/drive/MyDrive/Colab Notebooks/kaggle_dataset/dataset/happy/18.jpg'),\n",
              " ('happy',\n",
              "  '/content/drive/MyDrive/Colab Notebooks/kaggle_dataset/dataset/happy/16.jpg'),\n",
              " ('happy',\n",
              "  '/content/drive/MyDrive/Colab Notebooks/kaggle_dataset/dataset/happy/14.jpg'),\n",
              " ('happy',\n",
              "  '/content/drive/MyDrive/Colab Notebooks/kaggle_dataset/dataset/happy/10.jpg'),\n",
              " ('happy',\n",
              "  '/content/drive/MyDrive/Colab Notebooks/kaggle_dataset/dataset/happy/9.jpg'),\n",
              " ('happy',\n",
              "  '/content/drive/MyDrive/Colab Notebooks/kaggle_dataset/dataset/happy/6.jpg'),\n",
              " ('happy',\n",
              "  '/content/drive/MyDrive/Colab Notebooks/kaggle_dataset/dataset/happy/11.jpg'),\n",
              " ('happy',\n",
              "  '/content/drive/MyDrive/Colab Notebooks/kaggle_dataset/dataset/happy/22.jpg'),\n",
              " ('happy',\n",
              "  '/content/drive/MyDrive/Colab Notebooks/kaggle_dataset/dataset/happy/23.jpg'),\n",
              " ('happy',\n",
              "  '/content/drive/MyDrive/Colab Notebooks/kaggle_dataset/dataset/happy/21.jpg'),\n",
              " ('happy',\n",
              "  '/content/drive/MyDrive/Colab Notebooks/kaggle_dataset/dataset/happy/20.jpg'),\n",
              " ('happy',\n",
              "  '/content/drive/MyDrive/Colab Notebooks/kaggle_dataset/dataset/happy/13.jpg'),\n",
              " ('happy',\n",
              "  '/content/drive/MyDrive/Colab Notebooks/kaggle_dataset/dataset/happy/19.jpg'),\n",
              " ('happy',\n",
              "  '/content/drive/MyDrive/Colab Notebooks/kaggle_dataset/dataset/happy/12.jpg'),\n",
              " ('happy',\n",
              "  '/content/drive/MyDrive/Colab Notebooks/kaggle_dataset/dataset/happy/17.jpg'),\n",
              " ('happy',\n",
              "  '/content/drive/MyDrive/Colab Notebooks/kaggle_dataset/dataset/happy/8.jpg'),\n",
              " ('happy',\n",
              "  '/content/drive/MyDrive/Colab Notebooks/kaggle_dataset/dataset/happy/15.jpg'),\n",
              " ('happy',\n",
              "  '/content/drive/MyDrive/Colab Notebooks/kaggle_dataset/dataset/happy/5.jpg'),\n",
              " ('happy',\n",
              "  '/content/drive/MyDrive/Colab Notebooks/kaggle_dataset/dataset/happy/7.jpg'),\n",
              " ('happy',\n",
              "  '/content/drive/MyDrive/Colab Notebooks/kaggle_dataset/dataset/happy/33.jpg'),\n",
              " ('happy',\n",
              "  '/content/drive/MyDrive/Colab Notebooks/kaggle_dataset/dataset/happy/25.jpg'),\n",
              " ('happy',\n",
              "  '/content/drive/MyDrive/Colab Notebooks/kaggle_dataset/dataset/happy/31.jpg'),\n",
              " ('happy',\n",
              "  '/content/drive/MyDrive/Colab Notebooks/kaggle_dataset/dataset/happy/34.jpg'),\n",
              " ('happy',\n",
              "  '/content/drive/MyDrive/Colab Notebooks/kaggle_dataset/dataset/happy/30.jpg'),\n",
              " ('happy',\n",
              "  '/content/drive/MyDrive/Colab Notebooks/kaggle_dataset/dataset/happy/39.jpg'),\n",
              " ('happy',\n",
              "  '/content/drive/MyDrive/Colab Notebooks/kaggle_dataset/dataset/happy/26.jpg'),\n",
              " ('happy',\n",
              "  '/content/drive/MyDrive/Colab Notebooks/kaggle_dataset/dataset/happy/28.jpg'),\n",
              " ('happy',\n",
              "  '/content/drive/MyDrive/Colab Notebooks/kaggle_dataset/dataset/happy/36.jpg'),\n",
              " ('happy',\n",
              "  '/content/drive/MyDrive/Colab Notebooks/kaggle_dataset/dataset/happy/24.jpg'),\n",
              " ('happy',\n",
              "  '/content/drive/MyDrive/Colab Notebooks/kaggle_dataset/dataset/happy/37.jpg'),\n",
              " ('happy',\n",
              "  '/content/drive/MyDrive/Colab Notebooks/kaggle_dataset/dataset/happy/35.jpg'),\n",
              " ('happy',\n",
              "  '/content/drive/MyDrive/Colab Notebooks/kaggle_dataset/dataset/happy/29.jpg'),\n",
              " ('happy',\n",
              "  '/content/drive/MyDrive/Colab Notebooks/kaggle_dataset/dataset/happy/27.jpg'),\n",
              " ('happy',\n",
              "  '/content/drive/MyDrive/Colab Notebooks/kaggle_dataset/dataset/happy/32.jpg'),\n",
              " ('happy',\n",
              "  '/content/drive/MyDrive/Colab Notebooks/kaggle_dataset/dataset/happy/38.jpg'),\n",
              " ('happy',\n",
              "  '/content/drive/MyDrive/Colab Notebooks/kaggle_dataset/dataset/happy/48.jpg'),\n",
              " ('happy',\n",
              "  '/content/drive/MyDrive/Colab Notebooks/kaggle_dataset/dataset/happy/45.jpg'),\n",
              " ('happy',\n",
              "  '/content/drive/MyDrive/Colab Notebooks/kaggle_dataset/dataset/happy/43.jpg'),\n",
              " ('happy',\n",
              "  '/content/drive/MyDrive/Colab Notebooks/kaggle_dataset/dataset/happy/44.jpg'),\n",
              " ('happy',\n",
              "  '/content/drive/MyDrive/Colab Notebooks/kaggle_dataset/dataset/happy/55.jpg'),\n",
              " ('happy',\n",
              "  '/content/drive/MyDrive/Colab Notebooks/kaggle_dataset/dataset/happy/49.jpg'),\n",
              " ('happy',\n",
              "  '/content/drive/MyDrive/Colab Notebooks/kaggle_dataset/dataset/happy/46.jpg'),\n",
              " ('happy',\n",
              "  '/content/drive/MyDrive/Colab Notebooks/kaggle_dataset/dataset/happy/40.jpg'),\n",
              " ('happy',\n",
              "  '/content/drive/MyDrive/Colab Notebooks/kaggle_dataset/dataset/happy/47.jpg'),\n",
              " ('happy',\n",
              "  '/content/drive/MyDrive/Colab Notebooks/kaggle_dataset/dataset/happy/52.jpg'),\n",
              " ('happy',\n",
              "  '/content/drive/MyDrive/Colab Notebooks/kaggle_dataset/dataset/happy/41.jpg'),\n",
              " ('happy',\n",
              "  '/content/drive/MyDrive/Colab Notebooks/kaggle_dataset/dataset/happy/54.jpg'),\n",
              " ('happy',\n",
              "  '/content/drive/MyDrive/Colab Notebooks/kaggle_dataset/dataset/happy/51.jpg'),\n",
              " ('happy',\n",
              "  '/content/drive/MyDrive/Colab Notebooks/kaggle_dataset/dataset/happy/42.jpg'),\n",
              " ('happy',\n",
              "  '/content/drive/MyDrive/Colab Notebooks/kaggle_dataset/dataset/happy/50.jpg'),\n",
              " ('happy',\n",
              "  '/content/drive/MyDrive/Colab Notebooks/kaggle_dataset/dataset/happy/53.jpg'),\n",
              " ('happy',\n",
              "  '/content/drive/MyDrive/Colab Notebooks/kaggle_dataset/dataset/happy/68.jpg'),\n",
              " ('happy',\n",
              "  '/content/drive/MyDrive/Colab Notebooks/kaggle_dataset/dataset/happy/67.jpg'),\n",
              " ('happy',\n",
              "  '/content/drive/MyDrive/Colab Notebooks/kaggle_dataset/dataset/happy/61.jpg'),\n",
              " ('happy',\n",
              "  '/content/drive/MyDrive/Colab Notebooks/kaggle_dataset/dataset/happy/60.jpg'),\n",
              " ('happy',\n",
              "  '/content/drive/MyDrive/Colab Notebooks/kaggle_dataset/dataset/happy/56.jpg'),\n",
              " ('happy',\n",
              "  '/content/drive/MyDrive/Colab Notebooks/kaggle_dataset/dataset/happy/71.jpg'),\n",
              " ('happy',\n",
              "  '/content/drive/MyDrive/Colab Notebooks/kaggle_dataset/dataset/happy/64.jpg'),\n",
              " ('happy',\n",
              "  '/content/drive/MyDrive/Colab Notebooks/kaggle_dataset/dataset/happy/69.jpg'),\n",
              " ('happy',\n",
              "  '/content/drive/MyDrive/Colab Notebooks/kaggle_dataset/dataset/happy/65.jpg'),\n",
              " ('happy',\n",
              "  '/content/drive/MyDrive/Colab Notebooks/kaggle_dataset/dataset/happy/63.jpg'),\n",
              " ('happy',\n",
              "  '/content/drive/MyDrive/Colab Notebooks/kaggle_dataset/dataset/happy/58.jpg'),\n",
              " ('happy',\n",
              "  '/content/drive/MyDrive/Colab Notebooks/kaggle_dataset/dataset/happy/66.jpg'),\n",
              " ('happy',\n",
              "  '/content/drive/MyDrive/Colab Notebooks/kaggle_dataset/dataset/happy/59.jpg'),\n",
              " ('happy',\n",
              "  '/content/drive/MyDrive/Colab Notebooks/kaggle_dataset/dataset/happy/57.jpg'),\n",
              " ('happy',\n",
              "  '/content/drive/MyDrive/Colab Notebooks/kaggle_dataset/dataset/happy/62.jpg'),\n",
              " ('happy',\n",
              "  '/content/drive/MyDrive/Colab Notebooks/kaggle_dataset/dataset/happy/70.jpg'),\n",
              " ('happy',\n",
              "  '/content/drive/MyDrive/Colab Notebooks/kaggle_dataset/dataset/happy/85.jpg'),\n",
              " ('happy',\n",
              "  '/content/drive/MyDrive/Colab Notebooks/kaggle_dataset/dataset/happy/84.jpg'),\n",
              " ('happy',\n",
              "  '/content/drive/MyDrive/Colab Notebooks/kaggle_dataset/dataset/happy/78.jpg'),\n",
              " ('happy',\n",
              "  '/content/drive/MyDrive/Colab Notebooks/kaggle_dataset/dataset/happy/72.jpg'),\n",
              " ('happy',\n",
              "  '/content/drive/MyDrive/Colab Notebooks/kaggle_dataset/dataset/happy/79.jpg'),\n",
              " ('happy',\n",
              "  '/content/drive/MyDrive/Colab Notebooks/kaggle_dataset/dataset/happy/77.jpg'),\n",
              " ('happy',\n",
              "  '/content/drive/MyDrive/Colab Notebooks/kaggle_dataset/dataset/happy/81.jpg'),\n",
              " ('happy',\n",
              "  '/content/drive/MyDrive/Colab Notebooks/kaggle_dataset/dataset/happy/86.jpg'),\n",
              " ('happy',\n",
              "  '/content/drive/MyDrive/Colab Notebooks/kaggle_dataset/dataset/happy/75.jpg'),\n",
              " ('happy',\n",
              "  '/content/drive/MyDrive/Colab Notebooks/kaggle_dataset/dataset/happy/76.jpg'),\n",
              " ('happy',\n",
              "  '/content/drive/MyDrive/Colab Notebooks/kaggle_dataset/dataset/happy/82.jpg'),\n",
              " ('happy',\n",
              "  '/content/drive/MyDrive/Colab Notebooks/kaggle_dataset/dataset/happy/74.jpg'),\n",
              " ('happy',\n",
              "  '/content/drive/MyDrive/Colab Notebooks/kaggle_dataset/dataset/happy/83.jpg'),\n",
              " ('happy',\n",
              "  '/content/drive/MyDrive/Colab Notebooks/kaggle_dataset/dataset/happy/80.jpg'),\n",
              " ('happy',\n",
              "  '/content/drive/MyDrive/Colab Notebooks/kaggle_dataset/dataset/happy/73.jpg'),\n",
              " ('happy',\n",
              "  '/content/drive/MyDrive/Colab Notebooks/kaggle_dataset/dataset/happy/93.jpg'),\n",
              " ('happy',\n",
              "  '/content/drive/MyDrive/Colab Notebooks/kaggle_dataset/dataset/happy/89.jpg'),\n",
              " ('happy',\n",
              "  '/content/drive/MyDrive/Colab Notebooks/kaggle_dataset/dataset/happy/95.jpg'),\n",
              " ('happy',\n",
              "  '/content/drive/MyDrive/Colab Notebooks/kaggle_dataset/dataset/happy/97.jpg'),\n",
              " ('happy',\n",
              "  '/content/drive/MyDrive/Colab Notebooks/kaggle_dataset/dataset/happy/100.jpg'),\n",
              " ('happy',\n",
              "  '/content/drive/MyDrive/Colab Notebooks/kaggle_dataset/dataset/happy/91.jpg'),\n",
              " ('happy',\n",
              "  '/content/drive/MyDrive/Colab Notebooks/kaggle_dataset/dataset/happy/87.jpg'),\n",
              " ('happy',\n",
              "  '/content/drive/MyDrive/Colab Notebooks/kaggle_dataset/dataset/happy/90.jpg'),\n",
              " ('happy',\n",
              "  '/content/drive/MyDrive/Colab Notebooks/kaggle_dataset/dataset/happy/92.jpg'),\n",
              " ('happy',\n",
              "  '/content/drive/MyDrive/Colab Notebooks/kaggle_dataset/dataset/happy/88.jpg'),\n",
              " ('happy',\n",
              "  '/content/drive/MyDrive/Colab Notebooks/kaggle_dataset/dataset/happy/96.jpg'),\n",
              " ('happy',\n",
              "  '/content/drive/MyDrive/Colab Notebooks/kaggle_dataset/dataset/happy/94.jpg'),\n",
              " ('happy',\n",
              "  '/content/drive/MyDrive/Colab Notebooks/kaggle_dataset/dataset/happy/99.jpg'),\n",
              " ('happy',\n",
              "  '/content/drive/MyDrive/Colab Notebooks/kaggle_dataset/dataset/happy/98.jpg'),\n",
              " ('unhappy',\n",
              "  '/content/drive/MyDrive/Colab Notebooks/kaggle_dataset/dataset/unhappy/5.jpg'),\n",
              " ('unhappy',\n",
              "  '/content/drive/MyDrive/Colab Notebooks/kaggle_dataset/dataset/unhappy/10.jpg'),\n",
              " ('unhappy',\n",
              "  '/content/drive/MyDrive/Colab Notebooks/kaggle_dataset/dataset/unhappy/11.jpg'),\n",
              " ('unhappy',\n",
              "  '/content/drive/MyDrive/Colab Notebooks/kaggle_dataset/dataset/unhappy/8.jpg'),\n",
              " ('unhappy',\n",
              "  '/content/drive/MyDrive/Colab Notebooks/kaggle_dataset/dataset/unhappy/9.jpg'),\n",
              " ('unhappy',\n",
              "  '/content/drive/MyDrive/Colab Notebooks/kaggle_dataset/dataset/unhappy/1.jpg'),\n",
              " ('unhappy',\n",
              "  '/content/drive/MyDrive/Colab Notebooks/kaggle_dataset/dataset/unhappy/4.jpg'),\n",
              " ('unhappy',\n",
              "  '/content/drive/MyDrive/Colab Notebooks/kaggle_dataset/dataset/unhappy/6.jpg'),\n",
              " ('unhappy',\n",
              "  '/content/drive/MyDrive/Colab Notebooks/kaggle_dataset/dataset/unhappy/7.jpg'),\n",
              " ('unhappy',\n",
              "  '/content/drive/MyDrive/Colab Notebooks/kaggle_dataset/dataset/unhappy/3.jpg'),\n",
              " ('unhappy',\n",
              "  '/content/drive/MyDrive/Colab Notebooks/kaggle_dataset/dataset/unhappy/2.jpg'),\n",
              " ('unhappy',\n",
              "  '/content/drive/MyDrive/Colab Notebooks/kaggle_dataset/dataset/unhappy/23.jpg'),\n",
              " ('unhappy',\n",
              "  '/content/drive/MyDrive/Colab Notebooks/kaggle_dataset/dataset/unhappy/22.jpg'),\n",
              " ('unhappy',\n",
              "  '/content/drive/MyDrive/Colab Notebooks/kaggle_dataset/dataset/unhappy/24.jpg'),\n",
              " ('unhappy',\n",
              "  '/content/drive/MyDrive/Colab Notebooks/kaggle_dataset/dataset/unhappy/12.jpg'),\n",
              " ('unhappy',\n",
              "  '/content/drive/MyDrive/Colab Notebooks/kaggle_dataset/dataset/unhappy/26.jpg'),\n",
              " ('unhappy',\n",
              "  '/content/drive/MyDrive/Colab Notebooks/kaggle_dataset/dataset/unhappy/14.jpg'),\n",
              " ('unhappy',\n",
              "  '/content/drive/MyDrive/Colab Notebooks/kaggle_dataset/dataset/unhappy/17.jpg'),\n",
              " ('unhappy',\n",
              "  '/content/drive/MyDrive/Colab Notebooks/kaggle_dataset/dataset/unhappy/13.jpg'),\n",
              " ('unhappy',\n",
              "  '/content/drive/MyDrive/Colab Notebooks/kaggle_dataset/dataset/unhappy/15.jpg'),\n",
              " ('unhappy',\n",
              "  '/content/drive/MyDrive/Colab Notebooks/kaggle_dataset/dataset/unhappy/18.jpg'),\n",
              " ('unhappy',\n",
              "  '/content/drive/MyDrive/Colab Notebooks/kaggle_dataset/dataset/unhappy/25.jpg'),\n",
              " ('unhappy',\n",
              "  '/content/drive/MyDrive/Colab Notebooks/kaggle_dataset/dataset/unhappy/20.jpg'),\n",
              " ('unhappy',\n",
              "  '/content/drive/MyDrive/Colab Notebooks/kaggle_dataset/dataset/unhappy/19.jpg'),\n",
              " ('unhappy',\n",
              "  '/content/drive/MyDrive/Colab Notebooks/kaggle_dataset/dataset/unhappy/21.jpg'),\n",
              " ('unhappy',\n",
              "  '/content/drive/MyDrive/Colab Notebooks/kaggle_dataset/dataset/unhappy/16.jpg'),\n",
              " ('unhappy',\n",
              "  '/content/drive/MyDrive/Colab Notebooks/kaggle_dataset/dataset/unhappy/34.jpg'),\n",
              " ('unhappy',\n",
              "  '/content/drive/MyDrive/Colab Notebooks/kaggle_dataset/dataset/unhappy/44.jpg'),\n",
              " ('unhappy',\n",
              "  '/content/drive/MyDrive/Colab Notebooks/kaggle_dataset/dataset/unhappy/38.jpg'),\n",
              " ('unhappy',\n",
              "  '/content/drive/MyDrive/Colab Notebooks/kaggle_dataset/dataset/unhappy/27.jpg'),\n",
              " ('unhappy',\n",
              "  '/content/drive/MyDrive/Colab Notebooks/kaggle_dataset/dataset/unhappy/43.jpg'),\n",
              " ('unhappy',\n",
              "  '/content/drive/MyDrive/Colab Notebooks/kaggle_dataset/dataset/unhappy/35.jpg'),\n",
              " ('unhappy',\n",
              "  '/content/drive/MyDrive/Colab Notebooks/kaggle_dataset/dataset/unhappy/30.jpg'),\n",
              " ('unhappy',\n",
              "  '/content/drive/MyDrive/Colab Notebooks/kaggle_dataset/dataset/unhappy/31.jpg'),\n",
              " ('unhappy',\n",
              "  '/content/drive/MyDrive/Colab Notebooks/kaggle_dataset/dataset/unhappy/40.jpg'),\n",
              " ('unhappy',\n",
              "  '/content/drive/MyDrive/Colab Notebooks/kaggle_dataset/dataset/unhappy/37.jpg'),\n",
              " ('unhappy',\n",
              "  '/content/drive/MyDrive/Colab Notebooks/kaggle_dataset/dataset/unhappy/39.jpg'),\n",
              " ('unhappy',\n",
              "  '/content/drive/MyDrive/Colab Notebooks/kaggle_dataset/dataset/unhappy/28.jpg'),\n",
              " ('unhappy',\n",
              "  '/content/drive/MyDrive/Colab Notebooks/kaggle_dataset/dataset/unhappy/42.jpg'),\n",
              " ('unhappy',\n",
              "  '/content/drive/MyDrive/Colab Notebooks/kaggle_dataset/dataset/unhappy/32.jpg'),\n",
              " ('unhappy',\n",
              "  '/content/drive/MyDrive/Colab Notebooks/kaggle_dataset/dataset/unhappy/41.jpg'),\n",
              " ('unhappy',\n",
              "  '/content/drive/MyDrive/Colab Notebooks/kaggle_dataset/dataset/unhappy/36.jpg'),\n",
              " ('unhappy',\n",
              "  '/content/drive/MyDrive/Colab Notebooks/kaggle_dataset/dataset/unhappy/33.jpg'),\n",
              " ('unhappy',\n",
              "  '/content/drive/MyDrive/Colab Notebooks/kaggle_dataset/dataset/unhappy/29.jpg'),\n",
              " ('unhappy',\n",
              "  '/content/drive/MyDrive/Colab Notebooks/kaggle_dataset/dataset/unhappy/62.jpg'),\n",
              " ('unhappy',\n",
              "  '/content/drive/MyDrive/Colab Notebooks/kaggle_dataset/dataset/unhappy/61.jpg'),\n",
              " ('unhappy',\n",
              "  '/content/drive/MyDrive/Colab Notebooks/kaggle_dataset/dataset/unhappy/48.jpg'),\n",
              " ('unhappy',\n",
              "  '/content/drive/MyDrive/Colab Notebooks/kaggle_dataset/dataset/unhappy/51.jpg'),\n",
              " ('unhappy',\n",
              "  '/content/drive/MyDrive/Colab Notebooks/kaggle_dataset/dataset/unhappy/57.jpg'),\n",
              " ('unhappy',\n",
              "  '/content/drive/MyDrive/Colab Notebooks/kaggle_dataset/dataset/unhappy/58.jpg'),\n",
              " ('unhappy',\n",
              "  '/content/drive/MyDrive/Colab Notebooks/kaggle_dataset/dataset/unhappy/45.jpg'),\n",
              " ('unhappy',\n",
              "  '/content/drive/MyDrive/Colab Notebooks/kaggle_dataset/dataset/unhappy/55.jpg'),\n",
              " ('unhappy',\n",
              "  '/content/drive/MyDrive/Colab Notebooks/kaggle_dataset/dataset/unhappy/54.jpg'),\n",
              " ('unhappy',\n",
              "  '/content/drive/MyDrive/Colab Notebooks/kaggle_dataset/dataset/unhappy/60.jpg'),\n",
              " ('unhappy',\n",
              "  '/content/drive/MyDrive/Colab Notebooks/kaggle_dataset/dataset/unhappy/50.jpg'),\n",
              " ('unhappy',\n",
              "  '/content/drive/MyDrive/Colab Notebooks/kaggle_dataset/dataset/unhappy/47.jpg'),\n",
              " ('unhappy',\n",
              "  '/content/drive/MyDrive/Colab Notebooks/kaggle_dataset/dataset/unhappy/56.jpg'),\n",
              " ('unhappy',\n",
              "  '/content/drive/MyDrive/Colab Notebooks/kaggle_dataset/dataset/unhappy/53.jpg'),\n",
              " ('unhappy',\n",
              "  '/content/drive/MyDrive/Colab Notebooks/kaggle_dataset/dataset/unhappy/52.jpg'),\n",
              " ('unhappy',\n",
              "  '/content/drive/MyDrive/Colab Notebooks/kaggle_dataset/dataset/unhappy/49.jpg'),\n",
              " ('unhappy',\n",
              "  '/content/drive/MyDrive/Colab Notebooks/kaggle_dataset/dataset/unhappy/46.jpg'),\n",
              " ('unhappy',\n",
              "  '/content/drive/MyDrive/Colab Notebooks/kaggle_dataset/dataset/unhappy/59.jpg'),\n",
              " ('unhappy',\n",
              "  '/content/drive/MyDrive/Colab Notebooks/kaggle_dataset/dataset/unhappy/72.jpg'),\n",
              " ('unhappy',\n",
              "  '/content/drive/MyDrive/Colab Notebooks/kaggle_dataset/dataset/unhappy/69.jpg'),\n",
              " ('unhappy',\n",
              "  '/content/drive/MyDrive/Colab Notebooks/kaggle_dataset/dataset/unhappy/68.jpg'),\n",
              " ('unhappy',\n",
              "  '/content/drive/MyDrive/Colab Notebooks/kaggle_dataset/dataset/unhappy/76.jpg'),\n",
              " ('unhappy',\n",
              "  '/content/drive/MyDrive/Colab Notebooks/kaggle_dataset/dataset/unhappy/74.jpg'),\n",
              " ('unhappy',\n",
              "  '/content/drive/MyDrive/Colab Notebooks/kaggle_dataset/dataset/unhappy/64.jpg'),\n",
              " ('unhappy',\n",
              "  '/content/drive/MyDrive/Colab Notebooks/kaggle_dataset/dataset/unhappy/70.jpg'),\n",
              " ('unhappy',\n",
              "  '/content/drive/MyDrive/Colab Notebooks/kaggle_dataset/dataset/unhappy/67.jpg'),\n",
              " ('unhappy',\n",
              "  '/content/drive/MyDrive/Colab Notebooks/kaggle_dataset/dataset/unhappy/63.jpg'),\n",
              " ('unhappy',\n",
              "  '/content/drive/MyDrive/Colab Notebooks/kaggle_dataset/dataset/unhappy/77.jpg'),\n",
              " ('unhappy',\n",
              "  '/content/drive/MyDrive/Colab Notebooks/kaggle_dataset/dataset/unhappy/75.jpg'),\n",
              " ('unhappy',\n",
              "  '/content/drive/MyDrive/Colab Notebooks/kaggle_dataset/dataset/unhappy/80.jpg'),\n",
              " ('unhappy',\n",
              "  '/content/drive/MyDrive/Colab Notebooks/kaggle_dataset/dataset/unhappy/66.jpg'),\n",
              " ('unhappy',\n",
              "  '/content/drive/MyDrive/Colab Notebooks/kaggle_dataset/dataset/unhappy/78.jpg'),\n",
              " ('unhappy',\n",
              "  '/content/drive/MyDrive/Colab Notebooks/kaggle_dataset/dataset/unhappy/79.jpg'),\n",
              " ('unhappy',\n",
              "  '/content/drive/MyDrive/Colab Notebooks/kaggle_dataset/dataset/unhappy/73.jpg'),\n",
              " ('unhappy',\n",
              "  '/content/drive/MyDrive/Colab Notebooks/kaggle_dataset/dataset/unhappy/65.jpg'),\n",
              " ('unhappy',\n",
              "  '/content/drive/MyDrive/Colab Notebooks/kaggle_dataset/dataset/unhappy/71.jpg'),\n",
              " ('unhappy',\n",
              "  '/content/drive/MyDrive/Colab Notebooks/kaggle_dataset/dataset/unhappy/92.jpg'),\n",
              " ('unhappy',\n",
              "  '/content/drive/MyDrive/Colab Notebooks/kaggle_dataset/dataset/unhappy/88.jpg'),\n",
              " ('unhappy',\n",
              "  '/content/drive/MyDrive/Colab Notebooks/kaggle_dataset/dataset/unhappy/94.jpg'),\n",
              " ('unhappy',\n",
              "  '/content/drive/MyDrive/Colab Notebooks/kaggle_dataset/dataset/unhappy/89.jpg'),\n",
              " ('unhappy',\n",
              "  '/content/drive/MyDrive/Colab Notebooks/kaggle_dataset/dataset/unhappy/85.jpg'),\n",
              " ('unhappy',\n",
              "  '/content/drive/MyDrive/Colab Notebooks/kaggle_dataset/dataset/unhappy/93.jpg'),\n",
              " ('unhappy',\n",
              "  '/content/drive/MyDrive/Colab Notebooks/kaggle_dataset/dataset/unhappy/81.jpg'),\n",
              " ('unhappy',\n",
              "  '/content/drive/MyDrive/Colab Notebooks/kaggle_dataset/dataset/unhappy/98.jpg'),\n",
              " ('unhappy',\n",
              "  '/content/drive/MyDrive/Colab Notebooks/kaggle_dataset/dataset/unhappy/84.jpg'),\n",
              " ('unhappy',\n",
              "  '/content/drive/MyDrive/Colab Notebooks/kaggle_dataset/dataset/unhappy/87.jpg'),\n",
              " ('unhappy',\n",
              "  '/content/drive/MyDrive/Colab Notebooks/kaggle_dataset/dataset/unhappy/86.jpg'),\n",
              " ('unhappy',\n",
              "  '/content/drive/MyDrive/Colab Notebooks/kaggle_dataset/dataset/unhappy/96.jpg'),\n",
              " ('unhappy',\n",
              "  '/content/drive/MyDrive/Colab Notebooks/kaggle_dataset/dataset/unhappy/91.jpg'),\n",
              " ('unhappy',\n",
              "  '/content/drive/MyDrive/Colab Notebooks/kaggle_dataset/dataset/unhappy/97.jpg'),\n",
              " ('unhappy',\n",
              "  '/content/drive/MyDrive/Colab Notebooks/kaggle_dataset/dataset/unhappy/95.jpg'),\n",
              " ('unhappy',\n",
              "  '/content/drive/MyDrive/Colab Notebooks/kaggle_dataset/dataset/unhappy/99.jpg'),\n",
              " ('unhappy',\n",
              "  '/content/drive/MyDrive/Colab Notebooks/kaggle_dataset/dataset/unhappy/82.jpg'),\n",
              " ('unhappy',\n",
              "  '/content/drive/MyDrive/Colab Notebooks/kaggle_dataset/dataset/unhappy/90.jpg'),\n",
              " ('unhappy',\n",
              "  '/content/drive/MyDrive/Colab Notebooks/kaggle_dataset/dataset/unhappy/83.jpg'),\n",
              " ('unhappy',\n",
              "  '/content/drive/MyDrive/Colab Notebooks/kaggle_dataset/dataset/unhappy/100.jpg')]"
            ]
          },
          "metadata": {
            "tags": []
          },
          "execution_count": 6
        }
      ]
    },
    {
      "cell_type": "code",
      "metadata": {
        "colab": {
          "base_uri": "https://localhost:8080/",
          "height": 203
        },
        "id": "99FfmT0LRAUV",
        "outputId": "8caebaee-1e03-4725-ab55-ae7187894128"
      },
      "source": [
        "face_reaction=pd.DataFrame(data=rooms,columns=['reaction_type','images'])\n",
        "face_reaction.head()"
      ],
      "execution_count": 7,
      "outputs": [
        {
          "output_type": "execute_result",
          "data": {
            "text/html": [
              "<div>\n",
              "<style scoped>\n",
              "    .dataframe tbody tr th:only-of-type {\n",
              "        vertical-align: middle;\n",
              "    }\n",
              "\n",
              "    .dataframe tbody tr th {\n",
              "        vertical-align: top;\n",
              "    }\n",
              "\n",
              "    .dataframe thead th {\n",
              "        text-align: right;\n",
              "    }\n",
              "</style>\n",
              "<table border=\"1\" class=\"dataframe\">\n",
              "  <thead>\n",
              "    <tr style=\"text-align: right;\">\n",
              "      <th></th>\n",
              "      <th>reaction_type</th>\n",
              "      <th>images</th>\n",
              "    </tr>\n",
              "  </thead>\n",
              "  <tbody>\n",
              "    <tr>\n",
              "      <th>0</th>\n",
              "      <td>happy</td>\n",
              "      <td>/content/drive/MyDrive/Colab Notebooks/kaggle_...</td>\n",
              "    </tr>\n",
              "    <tr>\n",
              "      <th>1</th>\n",
              "      <td>happy</td>\n",
              "      <td>/content/drive/MyDrive/Colab Notebooks/kaggle_...</td>\n",
              "    </tr>\n",
              "    <tr>\n",
              "      <th>2</th>\n",
              "      <td>happy</td>\n",
              "      <td>/content/drive/MyDrive/Colab Notebooks/kaggle_...</td>\n",
              "    </tr>\n",
              "    <tr>\n",
              "      <th>3</th>\n",
              "      <td>happy</td>\n",
              "      <td>/content/drive/MyDrive/Colab Notebooks/kaggle_...</td>\n",
              "    </tr>\n",
              "    <tr>\n",
              "      <th>4</th>\n",
              "      <td>happy</td>\n",
              "      <td>/content/drive/MyDrive/Colab Notebooks/kaggle_...</td>\n",
              "    </tr>\n",
              "  </tbody>\n",
              "</table>\n",
              "</div>"
            ],
            "text/plain": [
              "  reaction_type                                             images\n",
              "0         happy  /content/drive/MyDrive/Colab Notebooks/kaggle_...\n",
              "1         happy  /content/drive/MyDrive/Colab Notebooks/kaggle_...\n",
              "2         happy  /content/drive/MyDrive/Colab Notebooks/kaggle_...\n",
              "3         happy  /content/drive/MyDrive/Colab Notebooks/kaggle_...\n",
              "4         happy  /content/drive/MyDrive/Colab Notebooks/kaggle_..."
            ]
          },
          "metadata": {
            "tags": []
          },
          "execution_count": 7
        }
      ]
    },
    {
      "cell_type": "code",
      "metadata": {
        "colab": {
          "base_uri": "https://localhost:8080/"
        },
        "id": "7Csnh2oYTPcG",
        "outputId": "6cae8fac-3ed8-4581-a11f-39a63ea7f21d"
      },
      "source": [
        "face_reaction['reaction_type'].value_counts()"
      ],
      "execution_count": 8,
      "outputs": [
        {
          "output_type": "execute_result",
          "data": {
            "text/plain": [
              "happy      100\n",
              "unhappy    100\n",
              "Name: reaction_type, dtype: int64"
            ]
          },
          "metadata": {
            "tags": []
          },
          "execution_count": 8
        }
      ]
    },
    {
      "cell_type": "code",
      "metadata": {
        "id": "LcAakOVVTu_8"
      },
      "source": [
        "import cv2\n",
        "path='/content/drive/MyDrive/Colab Notebooks/kaggle_dataset/dataset/'\n",
        "im_size=227\n",
        "images=[]\n",
        "labels=[]\n",
        "for i in roomtypes:\n",
        "  data_path=path+str(i)\n",
        "  filenames=[i for i in os.listdir(data_path)]\n",
        "  for f in filenames:\n",
        "    img=cv2.imread(data_path+'/'+f)\n",
        "    img=cv2.resize(img,(im_size,im_size))\n",
        "    images.append(img)\n",
        "    labels.append(i)"
      ],
      "execution_count": 9,
      "outputs": []
    },
    {
      "cell_type": "code",
      "metadata": {
        "id": "Yjp120woU5Wt"
      },
      "source": [
        "images=np.array(images)"
      ],
      "execution_count": 10,
      "outputs": []
    },
    {
      "cell_type": "code",
      "metadata": {
        "colab": {
          "base_uri": "https://localhost:8080/"
        },
        "id": "025TaasBVYnd",
        "outputId": "d763f3ba-10e1-4ae9-ea0e-a2de37701179"
      },
      "source": [
        "images.shape"
      ],
      "execution_count": 11,
      "outputs": [
        {
          "output_type": "execute_result",
          "data": {
            "text/plain": [
              "(200, 227, 227, 3)"
            ]
          },
          "metadata": {
            "tags": []
          },
          "execution_count": 11
        }
      ]
    },
    {
      "cell_type": "code",
      "metadata": {
        "colab": {
          "base_uri": "https://localhost:8080/"
        },
        "id": "vY_bjfP6VaTc",
        "outputId": "25443d77-c5f2-421d-fc7b-aaf8995451bc"
      },
      "source": [
        "labels"
      ],
      "execution_count": 12,
      "outputs": [
        {
          "output_type": "execute_result",
          "data": {
            "text/plain": [
              "['happy',\n",
              " 'happy',\n",
              " 'happy',\n",
              " 'happy',\n",
              " 'happy',\n",
              " 'happy',\n",
              " 'happy',\n",
              " 'happy',\n",
              " 'happy',\n",
              " 'happy',\n",
              " 'happy',\n",
              " 'happy',\n",
              " 'happy',\n",
              " 'happy',\n",
              " 'happy',\n",
              " 'happy',\n",
              " 'happy',\n",
              " 'happy',\n",
              " 'happy',\n",
              " 'happy',\n",
              " 'happy',\n",
              " 'happy',\n",
              " 'happy',\n",
              " 'happy',\n",
              " 'happy',\n",
              " 'happy',\n",
              " 'happy',\n",
              " 'happy',\n",
              " 'happy',\n",
              " 'happy',\n",
              " 'happy',\n",
              " 'happy',\n",
              " 'happy',\n",
              " 'happy',\n",
              " 'happy',\n",
              " 'happy',\n",
              " 'happy',\n",
              " 'happy',\n",
              " 'happy',\n",
              " 'happy',\n",
              " 'happy',\n",
              " 'happy',\n",
              " 'happy',\n",
              " 'happy',\n",
              " 'happy',\n",
              " 'happy',\n",
              " 'happy',\n",
              " 'happy',\n",
              " 'happy',\n",
              " 'happy',\n",
              " 'happy',\n",
              " 'happy',\n",
              " 'happy',\n",
              " 'happy',\n",
              " 'happy',\n",
              " 'happy',\n",
              " 'happy',\n",
              " 'happy',\n",
              " 'happy',\n",
              " 'happy',\n",
              " 'happy',\n",
              " 'happy',\n",
              " 'happy',\n",
              " 'happy',\n",
              " 'happy',\n",
              " 'happy',\n",
              " 'happy',\n",
              " 'happy',\n",
              " 'happy',\n",
              " 'happy',\n",
              " 'happy',\n",
              " 'happy',\n",
              " 'happy',\n",
              " 'happy',\n",
              " 'happy',\n",
              " 'happy',\n",
              " 'happy',\n",
              " 'happy',\n",
              " 'happy',\n",
              " 'happy',\n",
              " 'happy',\n",
              " 'happy',\n",
              " 'happy',\n",
              " 'happy',\n",
              " 'happy',\n",
              " 'happy',\n",
              " 'happy',\n",
              " 'happy',\n",
              " 'happy',\n",
              " 'happy',\n",
              " 'happy',\n",
              " 'happy',\n",
              " 'happy',\n",
              " 'happy',\n",
              " 'happy',\n",
              " 'happy',\n",
              " 'happy',\n",
              " 'happy',\n",
              " 'happy',\n",
              " 'happy',\n",
              " 'unhappy',\n",
              " 'unhappy',\n",
              " 'unhappy',\n",
              " 'unhappy',\n",
              " 'unhappy',\n",
              " 'unhappy',\n",
              " 'unhappy',\n",
              " 'unhappy',\n",
              " 'unhappy',\n",
              " 'unhappy',\n",
              " 'unhappy',\n",
              " 'unhappy',\n",
              " 'unhappy',\n",
              " 'unhappy',\n",
              " 'unhappy',\n",
              " 'unhappy',\n",
              " 'unhappy',\n",
              " 'unhappy',\n",
              " 'unhappy',\n",
              " 'unhappy',\n",
              " 'unhappy',\n",
              " 'unhappy',\n",
              " 'unhappy',\n",
              " 'unhappy',\n",
              " 'unhappy',\n",
              " 'unhappy',\n",
              " 'unhappy',\n",
              " 'unhappy',\n",
              " 'unhappy',\n",
              " 'unhappy',\n",
              " 'unhappy',\n",
              " 'unhappy',\n",
              " 'unhappy',\n",
              " 'unhappy',\n",
              " 'unhappy',\n",
              " 'unhappy',\n",
              " 'unhappy',\n",
              " 'unhappy',\n",
              " 'unhappy',\n",
              " 'unhappy',\n",
              " 'unhappy',\n",
              " 'unhappy',\n",
              " 'unhappy',\n",
              " 'unhappy',\n",
              " 'unhappy',\n",
              " 'unhappy',\n",
              " 'unhappy',\n",
              " 'unhappy',\n",
              " 'unhappy',\n",
              " 'unhappy',\n",
              " 'unhappy',\n",
              " 'unhappy',\n",
              " 'unhappy',\n",
              " 'unhappy',\n",
              " 'unhappy',\n",
              " 'unhappy',\n",
              " 'unhappy',\n",
              " 'unhappy',\n",
              " 'unhappy',\n",
              " 'unhappy',\n",
              " 'unhappy',\n",
              " 'unhappy',\n",
              " 'unhappy',\n",
              " 'unhappy',\n",
              " 'unhappy',\n",
              " 'unhappy',\n",
              " 'unhappy',\n",
              " 'unhappy',\n",
              " 'unhappy',\n",
              " 'unhappy',\n",
              " 'unhappy',\n",
              " 'unhappy',\n",
              " 'unhappy',\n",
              " 'unhappy',\n",
              " 'unhappy',\n",
              " 'unhappy',\n",
              " 'unhappy',\n",
              " 'unhappy',\n",
              " 'unhappy',\n",
              " 'unhappy',\n",
              " 'unhappy',\n",
              " 'unhappy',\n",
              " 'unhappy',\n",
              " 'unhappy',\n",
              " 'unhappy',\n",
              " 'unhappy',\n",
              " 'unhappy',\n",
              " 'unhappy',\n",
              " 'unhappy',\n",
              " 'unhappy',\n",
              " 'unhappy',\n",
              " 'unhappy',\n",
              " 'unhappy',\n",
              " 'unhappy',\n",
              " 'unhappy',\n",
              " 'unhappy',\n",
              " 'unhappy',\n",
              " 'unhappy',\n",
              " 'unhappy',\n",
              " 'unhappy']"
            ]
          },
          "metadata": {
            "tags": []
          },
          "execution_count": 12
        }
      ]
    },
    {
      "cell_type": "code",
      "metadata": {
        "id": "VhbtP4HVVfMt"
      },
      "source": [
        "images=images.astype('float32')/255.0"
      ],
      "execution_count": 13,
      "outputs": []
    },
    {
      "cell_type": "code",
      "metadata": {
        "id": "0VPtocZLVswe"
      },
      "source": [
        "from sklearn.preprocessing import LabelEncoder,OneHotEncoder\n",
        "from sklearn.compose import ColumnTransformer"
      ],
      "execution_count": 14,
      "outputs": []
    },
    {
      "cell_type": "code",
      "metadata": {
        "id": "JSXqAeVzWAG6"
      },
      "source": [
        "y=face_reaction['reaction_type'].values"
      ],
      "execution_count": 15,
      "outputs": []
    },
    {
      "cell_type": "code",
      "metadata": {
        "id": "CHWVCaaSWSIL"
      },
      "source": [
        "y_labelencoder=LabelEncoder()"
      ],
      "execution_count": 16,
      "outputs": []
    },
    {
      "cell_type": "code",
      "metadata": {
        "id": "iFjdJIqgWfWk"
      },
      "source": [
        "y=y_labelencoder.fit_transform(y)"
      ],
      "execution_count": 17,
      "outputs": []
    },
    {
      "cell_type": "code",
      "metadata": {
        "id": "gURbm3GlWqA8"
      },
      "source": [
        "y=y.reshape(-1,1)\n",
        "\n"
      ],
      "execution_count": 18,
      "outputs": []
    },
    {
      "cell_type": "code",
      "metadata": {
        "id": "JevvqVtMW6KI"
      },
      "source": [
        "ct = ColumnTransformer([(\"reaction_type\", OneHotEncoder(), [0])], remainder = 'passthrough')"
      ],
      "execution_count": 19,
      "outputs": []
    },
    {
      "cell_type": "code",
      "metadata": {
        "id": "LXd3pRdnY106"
      },
      "source": [
        "y = ct.fit_transform(y)"
      ],
      "execution_count": 20,
      "outputs": []
    },
    {
      "cell_type": "code",
      "metadata": {
        "colab": {
          "base_uri": "https://localhost:8080/"
        },
        "id": "ug_-33n6ZDo7",
        "outputId": "598ba7cf-4a71-4c38-f60e-68ba3fc3a809"
      },
      "source": [
        "y.shape"
      ],
      "execution_count": 21,
      "outputs": [
        {
          "output_type": "execute_result",
          "data": {
            "text/plain": [
              "(200, 2)"
            ]
          },
          "metadata": {
            "tags": []
          },
          "execution_count": 21
        }
      ]
    },
    {
      "cell_type": "code",
      "metadata": {
        "id": "ftg2hHljZPvi"
      },
      "source": [
        "from sklearn.utils import shuffle"
      ],
      "execution_count": 22,
      "outputs": []
    },
    {
      "cell_type": "code",
      "metadata": {
        "id": "Wb-MfrCBZXaA"
      },
      "source": [
        "from sklearn.model_selection import train_test_split as tts"
      ],
      "execution_count": 23,
      "outputs": []
    },
    {
      "cell_type": "code",
      "metadata": {
        "id": "uqBj6ZMzZf5d"
      },
      "source": [
        "images,y=shuffle(images,y,random_state=1)"
      ],
      "execution_count": 24,
      "outputs": []
    },
    {
      "cell_type": "code",
      "metadata": {
        "id": "KFIcq8UOZsGT"
      },
      "source": [
        "trian_images,test_images,trian_labels,test_labels=tts(images,y,test_size=0.05,random_state=415)"
      ],
      "execution_count": 44,
      "outputs": []
    },
    {
      "cell_type": "code",
      "metadata": {
        "id": "XZRXdL-2aN56"
      },
      "source": [
        "trian_images.shape"
      ],
      "execution_count": null,
      "outputs": []
    },
    {
      "cell_type": "code",
      "metadata": {
        "colab": {
          "base_uri": "https://localhost:8080/"
        },
        "id": "7j1ZEAtOaU9L",
        "outputId": "e87ac64b-f1a8-474a-9f96-1abc9506cf2a"
      },
      "source": [
        "test_images[0].shape"
      ],
      "execution_count": 46,
      "outputs": [
        {
          "output_type": "execute_result",
          "data": {
            "text/plain": [
              "(227, 227, 3)"
            ]
          },
          "metadata": {
            "tags": []
          },
          "execution_count": 46
        }
      ]
    },
    {
      "cell_type": "code",
      "metadata": {
        "colab": {
          "base_uri": "https://localhost:8080/"
        },
        "id": "FY-pwSmTaiBD",
        "outputId": "aa60535a-a96d-4892-e1ce-dcb5b5416c21"
      },
      "source": [
        "trian_labels.shape"
      ],
      "execution_count": 47,
      "outputs": [
        {
          "output_type": "execute_result",
          "data": {
            "text/plain": [
              "(190, 2)"
            ]
          },
          "metadata": {
            "tags": []
          },
          "execution_count": 47
        }
      ]
    },
    {
      "cell_type": "code",
      "metadata": {
        "colab": {
          "base_uri": "https://localhost:8080/"
        },
        "id": "OqcFszEMan4L",
        "outputId": "64a8ff44-83df-45b5-9c3c-33c5b5d31855"
      },
      "source": [
        "test_labels.shape"
      ],
      "execution_count": 48,
      "outputs": [
        {
          "output_type": "execute_result",
          "data": {
            "text/plain": [
              "(10, 2)"
            ]
          },
          "metadata": {
            "tags": []
          },
          "execution_count": 48
        }
      ]
    },
    {
      "cell_type": "code",
      "metadata": {
        "colab": {
          "base_uri": "https://localhost:8080/"
        },
        "id": "yt2ImJ4Waq7T",
        "outputId": "211e082a-1388-432a-eaaf-d8f37af7659b"
      },
      "source": [
        "import tensorflow.keras\n",
        "from tensorflow.keras.models import Sequential\n",
        "from tensorflow.keras.layers import Dense, Activation, Dropout, Flatten,\\\n",
        " Conv2D, MaxPooling2D,BatchNormalization\n",
        "\n",
        "\n",
        "\n",
        "\n",
        "# (3) Create a sequential model\n",
        "model = Sequential()\n",
        "\n",
        "# 1st Convolutional Layer\n",
        "model.add(Conv2D(filters=96, input_shape=(227,227,3), kernel_size=(11,11),\\\n",
        " strides=(4,4), padding='valid'))\n",
        "model.add(Activation('relu'))\n",
        "# Pooling \n",
        "model.add(MaxPooling2D(pool_size=(3,3), strides=(2,2), padding='valid'))\n",
        "# Batch Normalisation before passing it to the next layer\n",
        "model.add(BatchNormalization())\n",
        "\n",
        "# 2nd Convolutional Layer\n",
        "model.add(Conv2D(filters=256, kernel_size=(5,5), strides=(1,1), padding='same'))\n",
        "model.add(Activation('relu'))\n",
        "# Pooling\n",
        "model.add(MaxPooling2D(pool_size=(3,3), strides=(2,2), padding='valid'))\n",
        "# Batch Normalisation\n",
        "model.add(BatchNormalization())\n",
        "\n",
        "# 3rd Convolutional Layer\n",
        "model.add(Conv2D(filters=384, kernel_size=(3,3), strides=(1,1), padding='same'))\n",
        "model.add(Activation('relu'))\n",
        "# Batch Normalisation\n",
        "model.add(BatchNormalization())\n",
        "\n",
        "# 4th Convolutional Layer\n",
        "model.add(Conv2D(filters=384, kernel_size=(3,3), strides=(1,1), padding='same'))\n",
        "model.add(Activation('relu'))\n",
        "# Batch Normalisation\n",
        "model.add(BatchNormalization())\n",
        "\n",
        "# 5th Convolutional Layer\n",
        "model.add(Conv2D(filters=256, kernel_size=(3,3), strides=(1,1), padding='same'))\n",
        "model.add(Activation('relu'))\n",
        "# Pooling\n",
        "model.add(MaxPooling2D(pool_size=(3,3), strides=(2,2), padding='valid'))\n",
        "# Batch Normalisation\n",
        "model.add(BatchNormalization())\n",
        "\n",
        "# Passing it to a dense layer\n",
        "model.add(Flatten())\n",
        "# 1st Dense Layer\n",
        "model.add(Dense(4096, input_shape=(224*224*3,)))\n",
        "model.add(Activation('relu'))\n",
        "# Add Dropout to prevent overfitting\n",
        "model.add(Dropout(0.7))\n",
        "# Batch Normalisation\n",
        "model.add(BatchNormalization())\n",
        "\n",
        "# 2nd Dense Layer\n",
        "model.add(Dense(4096))\n",
        "model.add(Activation('relu'))\n",
        "# Add Dropout\n",
        "model.add(Dropout(0.7))\n",
        "# Batch Normalisation\n",
        "model.add(BatchNormalization())\n",
        "\n",
        "# 3rd Dense Layer\n",
        "model.add(Dense(1000))\n",
        "model.add(Activation('relu'))\n",
        "# Add Dropout\n",
        "model.add(Dropout(0.7))\n",
        "# Batch Normalisation\n",
        "model.add(BatchNormalization())\n",
        "\n",
        "# Output Layer\n",
        "model.add(Dense(2))\n",
        "model.add(Activation('sigmoid'))\n",
        "\n",
        "model.summary()"
      ],
      "execution_count": 89,
      "outputs": [
        {
          "output_type": "stream",
          "text": [
            "Model: \"sequential_2\"\n",
            "_________________________________________________________________\n",
            "Layer (type)                 Output Shape              Param #   \n",
            "=================================================================\n",
            "conv2d_10 (Conv2D)           (None, 55, 55, 96)        34944     \n",
            "_________________________________________________________________\n",
            "activation_18 (Activation)   (None, 55, 55, 96)        0         \n",
            "_________________________________________________________________\n",
            "max_pooling2d_6 (MaxPooling2 (None, 27, 27, 96)        0         \n",
            "_________________________________________________________________\n",
            "batch_normalization_16 (Batc (None, 27, 27, 96)        384       \n",
            "_________________________________________________________________\n",
            "conv2d_11 (Conv2D)           (None, 27, 27, 256)       614656    \n",
            "_________________________________________________________________\n",
            "activation_19 (Activation)   (None, 27, 27, 256)       0         \n",
            "_________________________________________________________________\n",
            "max_pooling2d_7 (MaxPooling2 (None, 13, 13, 256)       0         \n",
            "_________________________________________________________________\n",
            "batch_normalization_17 (Batc (None, 13, 13, 256)       1024      \n",
            "_________________________________________________________________\n",
            "conv2d_12 (Conv2D)           (None, 13, 13, 384)       885120    \n",
            "_________________________________________________________________\n",
            "activation_20 (Activation)   (None, 13, 13, 384)       0         \n",
            "_________________________________________________________________\n",
            "batch_normalization_18 (Batc (None, 13, 13, 384)       1536      \n",
            "_________________________________________________________________\n",
            "conv2d_13 (Conv2D)           (None, 13, 13, 384)       1327488   \n",
            "_________________________________________________________________\n",
            "activation_21 (Activation)   (None, 13, 13, 384)       0         \n",
            "_________________________________________________________________\n",
            "batch_normalization_19 (Batc (None, 13, 13, 384)       1536      \n",
            "_________________________________________________________________\n",
            "conv2d_14 (Conv2D)           (None, 13, 13, 256)       884992    \n",
            "_________________________________________________________________\n",
            "activation_22 (Activation)   (None, 13, 13, 256)       0         \n",
            "_________________________________________________________________\n",
            "max_pooling2d_8 (MaxPooling2 (None, 6, 6, 256)         0         \n",
            "_________________________________________________________________\n",
            "batch_normalization_20 (Batc (None, 6, 6, 256)         1024      \n",
            "_________________________________________________________________\n",
            "flatten_2 (Flatten)          (None, 9216)              0         \n",
            "_________________________________________________________________\n",
            "dense_8 (Dense)              (None, 4096)              37752832  \n",
            "_________________________________________________________________\n",
            "activation_23 (Activation)   (None, 4096)              0         \n",
            "_________________________________________________________________\n",
            "dropout_6 (Dropout)          (None, 4096)              0         \n",
            "_________________________________________________________________\n",
            "batch_normalization_21 (Batc (None, 4096)              16384     \n",
            "_________________________________________________________________\n",
            "dense_9 (Dense)              (None, 4096)              16781312  \n",
            "_________________________________________________________________\n",
            "activation_24 (Activation)   (None, 4096)              0         \n",
            "_________________________________________________________________\n",
            "dropout_7 (Dropout)          (None, 4096)              0         \n",
            "_________________________________________________________________\n",
            "batch_normalization_22 (Batc (None, 4096)              16384     \n",
            "_________________________________________________________________\n",
            "dense_10 (Dense)             (None, 1000)              4097000   \n",
            "_________________________________________________________________\n",
            "activation_25 (Activation)   (None, 1000)              0         \n",
            "_________________________________________________________________\n",
            "dropout_8 (Dropout)          (None, 1000)              0         \n",
            "_________________________________________________________________\n",
            "batch_normalization_23 (Batc (None, 1000)              4000      \n",
            "_________________________________________________________________\n",
            "dense_11 (Dense)             (None, 2)                 2002      \n",
            "_________________________________________________________________\n",
            "activation_26 (Activation)   (None, 2)                 0         \n",
            "=================================================================\n",
            "Total params: 62,422,618\n",
            "Trainable params: 62,401,482\n",
            "Non-trainable params: 21,136\n",
            "_________________________________________________________________\n"
          ],
          "name": "stdout"
        }
      ]
    },
    {
      "cell_type": "code",
      "metadata": {
        "id": "PXP2gw_mxdip"
      },
      "source": [
        "\n",
        "import tensorflow as tf\n",
        "opt = keras.optimizers.Adam(learning_rate=0.01)\n",
        "model.compile(loss=tf.keras.losses.BinaryCrossentropy(from_logits=True), optimizer=opt,metrics='accuracy')\n"
      ],
      "execution_count": 90,
      "outputs": []
    },
    {
      "cell_type": "code",
      "metadata": {
        "id": "s6obCGIADBwt"
      },
      "source": [
        "y_train = trian_labels.astype(\"float32\")\n",
        "y_test = test_labels.astype(\"float32\")\n",
        "\n",
        "# Reserve 10,000 samples for validation\n",
        "x_val = trian_images[-10000:]\n",
        "y_val = test_images[-10000:]\n",
        "x_train = trian_images[:-10000]\n",
        "y_train = test_images[:-10000]"
      ],
      "execution_count": 52,
      "outputs": []
    },
    {
      "cell_type": "code",
      "metadata": {
        "id": "FFNfINPaWHvo"
      },
      "source": [
        "images=np.array(images)"
      ],
      "execution_count": null,
      "outputs": []
    },
    {
      "cell_type": "code",
      "metadata": {
        "id": "RMLs7PBoDjgh",
        "colab": {
          "base_uri": "https://localhost:8080/",
          "height": 841
        },
        "outputId": "e8a478e0-9b2c-47c6-c6bc-2e7bcaf360eb"
      },
      "source": [
        "model.fit(trian_images,epochs=10,\n",
        "          steps_per_epoch=len(trian_images),\n",
        "          validation_steps=len(test_images))"
      ],
      "execution_count": 38,
      "outputs": [
        {
          "output_type": "stream",
          "text": [
            "Epoch 1/10\n"
          ],
          "name": "stdout"
        },
        {
          "output_type": "error",
          "ename": "ValueError",
          "evalue": "ignored",
          "traceback": [
            "\u001b[0;31m---------------------------------------------------------------------------\u001b[0m",
            "\u001b[0;31mValueError\u001b[0m                                Traceback (most recent call last)",
            "\u001b[0;32m<ipython-input-38-c15d050438f5>\u001b[0m in \u001b[0;36m<module>\u001b[0;34m()\u001b[0m\n\u001b[1;32m      1\u001b[0m model.fit(trian_images,epochs=10,\n\u001b[1;32m      2\u001b[0m           \u001b[0msteps_per_epoch\u001b[0m\u001b[0;34m=\u001b[0m\u001b[0mlen\u001b[0m\u001b[0;34m(\u001b[0m\u001b[0mtrian_images\u001b[0m\u001b[0;34m)\u001b[0m\u001b[0;34m,\u001b[0m\u001b[0;34m\u001b[0m\u001b[0;34m\u001b[0m\u001b[0m\n\u001b[0;32m----> 3\u001b[0;31m           validation_steps=len(test_images))\n\u001b[0m",
            "\u001b[0;32m/usr/local/lib/python3.7/dist-packages/tensorflow/python/keras/engine/training.py\u001b[0m in \u001b[0;36mfit\u001b[0;34m(self, x, y, batch_size, epochs, verbose, callbacks, validation_split, validation_data, shuffle, class_weight, sample_weight, initial_epoch, steps_per_epoch, validation_steps, validation_batch_size, validation_freq, max_queue_size, workers, use_multiprocessing)\u001b[0m\n\u001b[1;32m   1181\u001b[0m                 _r=1):\n\u001b[1;32m   1182\u001b[0m               \u001b[0mcallbacks\u001b[0m\u001b[0;34m.\u001b[0m\u001b[0mon_train_batch_begin\u001b[0m\u001b[0;34m(\u001b[0m\u001b[0mstep\u001b[0m\u001b[0;34m)\u001b[0m\u001b[0;34m\u001b[0m\u001b[0;34m\u001b[0m\u001b[0m\n\u001b[0;32m-> 1183\u001b[0;31m               \u001b[0mtmp_logs\u001b[0m \u001b[0;34m=\u001b[0m \u001b[0mself\u001b[0m\u001b[0;34m.\u001b[0m\u001b[0mtrain_function\u001b[0m\u001b[0;34m(\u001b[0m\u001b[0miterator\u001b[0m\u001b[0;34m)\u001b[0m\u001b[0;34m\u001b[0m\u001b[0;34m\u001b[0m\u001b[0m\n\u001b[0m\u001b[1;32m   1184\u001b[0m               \u001b[0;32mif\u001b[0m \u001b[0mdata_handler\u001b[0m\u001b[0;34m.\u001b[0m\u001b[0mshould_sync\u001b[0m\u001b[0;34m:\u001b[0m\u001b[0;34m\u001b[0m\u001b[0;34m\u001b[0m\u001b[0m\n\u001b[1;32m   1185\u001b[0m                 \u001b[0mcontext\u001b[0m\u001b[0;34m.\u001b[0m\u001b[0masync_wait\u001b[0m\u001b[0;34m(\u001b[0m\u001b[0;34m)\u001b[0m\u001b[0;34m\u001b[0m\u001b[0;34m\u001b[0m\u001b[0m\n",
            "\u001b[0;32m/usr/local/lib/python3.7/dist-packages/tensorflow/python/eager/def_function.py\u001b[0m in \u001b[0;36m__call__\u001b[0;34m(self, *args, **kwds)\u001b[0m\n\u001b[1;32m    887\u001b[0m \u001b[0;34m\u001b[0m\u001b[0m\n\u001b[1;32m    888\u001b[0m       \u001b[0;32mwith\u001b[0m \u001b[0mOptionalXlaContext\u001b[0m\u001b[0;34m(\u001b[0m\u001b[0mself\u001b[0m\u001b[0;34m.\u001b[0m\u001b[0m_jit_compile\u001b[0m\u001b[0;34m)\u001b[0m\u001b[0;34m:\u001b[0m\u001b[0;34m\u001b[0m\u001b[0;34m\u001b[0m\u001b[0m\n\u001b[0;32m--> 889\u001b[0;31m         \u001b[0mresult\u001b[0m \u001b[0;34m=\u001b[0m \u001b[0mself\u001b[0m\u001b[0;34m.\u001b[0m\u001b[0m_call\u001b[0m\u001b[0;34m(\u001b[0m\u001b[0;34m*\u001b[0m\u001b[0margs\u001b[0m\u001b[0;34m,\u001b[0m \u001b[0;34m**\u001b[0m\u001b[0mkwds\u001b[0m\u001b[0;34m)\u001b[0m\u001b[0;34m\u001b[0m\u001b[0;34m\u001b[0m\u001b[0m\n\u001b[0m\u001b[1;32m    890\u001b[0m \u001b[0;34m\u001b[0m\u001b[0m\n\u001b[1;32m    891\u001b[0m       \u001b[0mnew_tracing_count\u001b[0m \u001b[0;34m=\u001b[0m \u001b[0mself\u001b[0m\u001b[0;34m.\u001b[0m\u001b[0mexperimental_get_tracing_count\u001b[0m\u001b[0;34m(\u001b[0m\u001b[0;34m)\u001b[0m\u001b[0;34m\u001b[0m\u001b[0;34m\u001b[0m\u001b[0m\n",
            "\u001b[0;32m/usr/local/lib/python3.7/dist-packages/tensorflow/python/eager/def_function.py\u001b[0m in \u001b[0;36m_call\u001b[0;34m(self, *args, **kwds)\u001b[0m\n\u001b[1;32m    931\u001b[0m       \u001b[0;31m# This is the first call of __call__, so we have to initialize.\u001b[0m\u001b[0;34m\u001b[0m\u001b[0;34m\u001b[0m\u001b[0;34m\u001b[0m\u001b[0m\n\u001b[1;32m    932\u001b[0m       \u001b[0minitializers\u001b[0m \u001b[0;34m=\u001b[0m \u001b[0;34m[\u001b[0m\u001b[0;34m]\u001b[0m\u001b[0;34m\u001b[0m\u001b[0;34m\u001b[0m\u001b[0m\n\u001b[0;32m--> 933\u001b[0;31m       \u001b[0mself\u001b[0m\u001b[0;34m.\u001b[0m\u001b[0m_initialize\u001b[0m\u001b[0;34m(\u001b[0m\u001b[0margs\u001b[0m\u001b[0;34m,\u001b[0m \u001b[0mkwds\u001b[0m\u001b[0;34m,\u001b[0m \u001b[0madd_initializers_to\u001b[0m\u001b[0;34m=\u001b[0m\u001b[0minitializers\u001b[0m\u001b[0;34m)\u001b[0m\u001b[0;34m\u001b[0m\u001b[0;34m\u001b[0m\u001b[0m\n\u001b[0m\u001b[1;32m    934\u001b[0m     \u001b[0;32mfinally\u001b[0m\u001b[0;34m:\u001b[0m\u001b[0;34m\u001b[0m\u001b[0;34m\u001b[0m\u001b[0m\n\u001b[1;32m    935\u001b[0m       \u001b[0;31m# At this point we know that the initialization is complete (or less\u001b[0m\u001b[0;34m\u001b[0m\u001b[0;34m\u001b[0m\u001b[0;34m\u001b[0m\u001b[0m\n",
            "\u001b[0;32m/usr/local/lib/python3.7/dist-packages/tensorflow/python/eager/def_function.py\u001b[0m in \u001b[0;36m_initialize\u001b[0;34m(self, args, kwds, add_initializers_to)\u001b[0m\n\u001b[1;32m    762\u001b[0m     self._concrete_stateful_fn = (\n\u001b[1;32m    763\u001b[0m         self._stateful_fn._get_concrete_function_internal_garbage_collected(  # pylint: disable=protected-access\n\u001b[0;32m--> 764\u001b[0;31m             *args, **kwds))\n\u001b[0m\u001b[1;32m    765\u001b[0m \u001b[0;34m\u001b[0m\u001b[0m\n\u001b[1;32m    766\u001b[0m     \u001b[0;32mdef\u001b[0m \u001b[0minvalid_creator_scope\u001b[0m\u001b[0;34m(\u001b[0m\u001b[0;34m*\u001b[0m\u001b[0munused_args\u001b[0m\u001b[0;34m,\u001b[0m \u001b[0;34m**\u001b[0m\u001b[0munused_kwds\u001b[0m\u001b[0;34m)\u001b[0m\u001b[0;34m:\u001b[0m\u001b[0;34m\u001b[0m\u001b[0;34m\u001b[0m\u001b[0m\n",
            "\u001b[0;32m/usr/local/lib/python3.7/dist-packages/tensorflow/python/eager/function.py\u001b[0m in \u001b[0;36m_get_concrete_function_internal_garbage_collected\u001b[0;34m(self, *args, **kwargs)\u001b[0m\n\u001b[1;32m   3048\u001b[0m       \u001b[0margs\u001b[0m\u001b[0;34m,\u001b[0m \u001b[0mkwargs\u001b[0m \u001b[0;34m=\u001b[0m \u001b[0;32mNone\u001b[0m\u001b[0;34m,\u001b[0m \u001b[0;32mNone\u001b[0m\u001b[0;34m\u001b[0m\u001b[0;34m\u001b[0m\u001b[0m\n\u001b[1;32m   3049\u001b[0m     \u001b[0;32mwith\u001b[0m \u001b[0mself\u001b[0m\u001b[0;34m.\u001b[0m\u001b[0m_lock\u001b[0m\u001b[0;34m:\u001b[0m\u001b[0;34m\u001b[0m\u001b[0;34m\u001b[0m\u001b[0m\n\u001b[0;32m-> 3050\u001b[0;31m       \u001b[0mgraph_function\u001b[0m\u001b[0;34m,\u001b[0m \u001b[0m_\u001b[0m \u001b[0;34m=\u001b[0m \u001b[0mself\u001b[0m\u001b[0;34m.\u001b[0m\u001b[0m_maybe_define_function\u001b[0m\u001b[0;34m(\u001b[0m\u001b[0margs\u001b[0m\u001b[0;34m,\u001b[0m \u001b[0mkwargs\u001b[0m\u001b[0;34m)\u001b[0m\u001b[0;34m\u001b[0m\u001b[0;34m\u001b[0m\u001b[0m\n\u001b[0m\u001b[1;32m   3051\u001b[0m     \u001b[0;32mreturn\u001b[0m \u001b[0mgraph_function\u001b[0m\u001b[0;34m\u001b[0m\u001b[0;34m\u001b[0m\u001b[0m\n\u001b[1;32m   3052\u001b[0m \u001b[0;34m\u001b[0m\u001b[0m\n",
            "\u001b[0;32m/usr/local/lib/python3.7/dist-packages/tensorflow/python/eager/function.py\u001b[0m in \u001b[0;36m_maybe_define_function\u001b[0;34m(self, args, kwargs)\u001b[0m\n\u001b[1;32m   3442\u001b[0m \u001b[0;34m\u001b[0m\u001b[0m\n\u001b[1;32m   3443\u001b[0m           \u001b[0mself\u001b[0m\u001b[0;34m.\u001b[0m\u001b[0m_function_cache\u001b[0m\u001b[0;34m.\u001b[0m\u001b[0mmissed\u001b[0m\u001b[0;34m.\u001b[0m\u001b[0madd\u001b[0m\u001b[0;34m(\u001b[0m\u001b[0mcall_context_key\u001b[0m\u001b[0;34m)\u001b[0m\u001b[0;34m\u001b[0m\u001b[0;34m\u001b[0m\u001b[0m\n\u001b[0;32m-> 3444\u001b[0;31m           \u001b[0mgraph_function\u001b[0m \u001b[0;34m=\u001b[0m \u001b[0mself\u001b[0m\u001b[0;34m.\u001b[0m\u001b[0m_create_graph_function\u001b[0m\u001b[0;34m(\u001b[0m\u001b[0margs\u001b[0m\u001b[0;34m,\u001b[0m \u001b[0mkwargs\u001b[0m\u001b[0;34m)\u001b[0m\u001b[0;34m\u001b[0m\u001b[0;34m\u001b[0m\u001b[0m\n\u001b[0m\u001b[1;32m   3445\u001b[0m           \u001b[0mself\u001b[0m\u001b[0;34m.\u001b[0m\u001b[0m_function_cache\u001b[0m\u001b[0;34m.\u001b[0m\u001b[0mprimary\u001b[0m\u001b[0;34m[\u001b[0m\u001b[0mcache_key\u001b[0m\u001b[0;34m]\u001b[0m \u001b[0;34m=\u001b[0m \u001b[0mgraph_function\u001b[0m\u001b[0;34m\u001b[0m\u001b[0;34m\u001b[0m\u001b[0m\n\u001b[1;32m   3446\u001b[0m \u001b[0;34m\u001b[0m\u001b[0m\n",
            "\u001b[0;32m/usr/local/lib/python3.7/dist-packages/tensorflow/python/eager/function.py\u001b[0m in \u001b[0;36m_create_graph_function\u001b[0;34m(self, args, kwargs, override_flat_arg_shapes)\u001b[0m\n\u001b[1;32m   3287\u001b[0m             \u001b[0marg_names\u001b[0m\u001b[0;34m=\u001b[0m\u001b[0marg_names\u001b[0m\u001b[0;34m,\u001b[0m\u001b[0;34m\u001b[0m\u001b[0;34m\u001b[0m\u001b[0m\n\u001b[1;32m   3288\u001b[0m             \u001b[0moverride_flat_arg_shapes\u001b[0m\u001b[0;34m=\u001b[0m\u001b[0moverride_flat_arg_shapes\u001b[0m\u001b[0;34m,\u001b[0m\u001b[0;34m\u001b[0m\u001b[0;34m\u001b[0m\u001b[0m\n\u001b[0;32m-> 3289\u001b[0;31m             capture_by_value=self._capture_by_value),\n\u001b[0m\u001b[1;32m   3290\u001b[0m         \u001b[0mself\u001b[0m\u001b[0;34m.\u001b[0m\u001b[0m_function_attributes\u001b[0m\u001b[0;34m,\u001b[0m\u001b[0;34m\u001b[0m\u001b[0;34m\u001b[0m\u001b[0m\n\u001b[1;32m   3291\u001b[0m         \u001b[0mfunction_spec\u001b[0m\u001b[0;34m=\u001b[0m\u001b[0mself\u001b[0m\u001b[0;34m.\u001b[0m\u001b[0mfunction_spec\u001b[0m\u001b[0;34m,\u001b[0m\u001b[0;34m\u001b[0m\u001b[0;34m\u001b[0m\u001b[0m\n",
            "\u001b[0;32m/usr/local/lib/python3.7/dist-packages/tensorflow/python/framework/func_graph.py\u001b[0m in \u001b[0;36mfunc_graph_from_py_func\u001b[0;34m(name, python_func, args, kwargs, signature, func_graph, autograph, autograph_options, add_control_dependencies, arg_names, op_return_value, collections, capture_by_value, override_flat_arg_shapes)\u001b[0m\n\u001b[1;32m    997\u001b[0m         \u001b[0m_\u001b[0m\u001b[0;34m,\u001b[0m \u001b[0moriginal_func\u001b[0m \u001b[0;34m=\u001b[0m \u001b[0mtf_decorator\u001b[0m\u001b[0;34m.\u001b[0m\u001b[0munwrap\u001b[0m\u001b[0;34m(\u001b[0m\u001b[0mpython_func\u001b[0m\u001b[0;34m)\u001b[0m\u001b[0;34m\u001b[0m\u001b[0;34m\u001b[0m\u001b[0m\n\u001b[1;32m    998\u001b[0m \u001b[0;34m\u001b[0m\u001b[0m\n\u001b[0;32m--> 999\u001b[0;31m       \u001b[0mfunc_outputs\u001b[0m \u001b[0;34m=\u001b[0m \u001b[0mpython_func\u001b[0m\u001b[0;34m(\u001b[0m\u001b[0;34m*\u001b[0m\u001b[0mfunc_args\u001b[0m\u001b[0;34m,\u001b[0m \u001b[0;34m**\u001b[0m\u001b[0mfunc_kwargs\u001b[0m\u001b[0;34m)\u001b[0m\u001b[0;34m\u001b[0m\u001b[0;34m\u001b[0m\u001b[0m\n\u001b[0m\u001b[1;32m   1000\u001b[0m \u001b[0;34m\u001b[0m\u001b[0m\n\u001b[1;32m   1001\u001b[0m       \u001b[0;31m# invariant: `func_outputs` contains only Tensors, CompositeTensors,\u001b[0m\u001b[0;34m\u001b[0m\u001b[0;34m\u001b[0m\u001b[0;34m\u001b[0m\u001b[0m\n",
            "\u001b[0;32m/usr/local/lib/python3.7/dist-packages/tensorflow/python/eager/def_function.py\u001b[0m in \u001b[0;36mwrapped_fn\u001b[0;34m(*args, **kwds)\u001b[0m\n\u001b[1;32m    670\u001b[0m         \u001b[0;31m# the function a weak reference to itself to avoid a reference cycle.\u001b[0m\u001b[0;34m\u001b[0m\u001b[0;34m\u001b[0m\u001b[0;34m\u001b[0m\u001b[0m\n\u001b[1;32m    671\u001b[0m         \u001b[0;32mwith\u001b[0m \u001b[0mOptionalXlaContext\u001b[0m\u001b[0;34m(\u001b[0m\u001b[0mcompile_with_xla\u001b[0m\u001b[0;34m)\u001b[0m\u001b[0;34m:\u001b[0m\u001b[0;34m\u001b[0m\u001b[0;34m\u001b[0m\u001b[0m\n\u001b[0;32m--> 672\u001b[0;31m           \u001b[0mout\u001b[0m \u001b[0;34m=\u001b[0m \u001b[0mweak_wrapped_fn\u001b[0m\u001b[0;34m(\u001b[0m\u001b[0;34m)\u001b[0m\u001b[0;34m.\u001b[0m\u001b[0m__wrapped__\u001b[0m\u001b[0;34m(\u001b[0m\u001b[0;34m*\u001b[0m\u001b[0margs\u001b[0m\u001b[0;34m,\u001b[0m \u001b[0;34m**\u001b[0m\u001b[0mkwds\u001b[0m\u001b[0;34m)\u001b[0m\u001b[0;34m\u001b[0m\u001b[0;34m\u001b[0m\u001b[0m\n\u001b[0m\u001b[1;32m    673\u001b[0m         \u001b[0;32mreturn\u001b[0m \u001b[0mout\u001b[0m\u001b[0;34m\u001b[0m\u001b[0;34m\u001b[0m\u001b[0m\n\u001b[1;32m    674\u001b[0m \u001b[0;34m\u001b[0m\u001b[0m\n",
            "\u001b[0;32m/usr/local/lib/python3.7/dist-packages/tensorflow/python/framework/func_graph.py\u001b[0m in \u001b[0;36mwrapper\u001b[0;34m(*args, **kwargs)\u001b[0m\n\u001b[1;32m    984\u001b[0m           \u001b[0;32mexcept\u001b[0m \u001b[0mException\u001b[0m \u001b[0;32mas\u001b[0m \u001b[0me\u001b[0m\u001b[0;34m:\u001b[0m  \u001b[0;31m# pylint:disable=broad-except\u001b[0m\u001b[0;34m\u001b[0m\u001b[0;34m\u001b[0m\u001b[0m\n\u001b[1;32m    985\u001b[0m             \u001b[0;32mif\u001b[0m \u001b[0mhasattr\u001b[0m\u001b[0;34m(\u001b[0m\u001b[0me\u001b[0m\u001b[0;34m,\u001b[0m \u001b[0;34m\"ag_error_metadata\"\u001b[0m\u001b[0;34m)\u001b[0m\u001b[0;34m:\u001b[0m\u001b[0;34m\u001b[0m\u001b[0;34m\u001b[0m\u001b[0m\n\u001b[0;32m--> 986\u001b[0;31m               \u001b[0;32mraise\u001b[0m \u001b[0me\u001b[0m\u001b[0;34m.\u001b[0m\u001b[0mag_error_metadata\u001b[0m\u001b[0;34m.\u001b[0m\u001b[0mto_exception\u001b[0m\u001b[0;34m(\u001b[0m\u001b[0me\u001b[0m\u001b[0;34m)\u001b[0m\u001b[0;34m\u001b[0m\u001b[0;34m\u001b[0m\u001b[0m\n\u001b[0m\u001b[1;32m    987\u001b[0m             \u001b[0;32melse\u001b[0m\u001b[0;34m:\u001b[0m\u001b[0;34m\u001b[0m\u001b[0;34m\u001b[0m\u001b[0m\n\u001b[1;32m    988\u001b[0m               \u001b[0;32mraise\u001b[0m\u001b[0;34m\u001b[0m\u001b[0;34m\u001b[0m\u001b[0m\n",
            "\u001b[0;31mValueError\u001b[0m: in user code:\n\n    /usr/local/lib/python3.7/dist-packages/tensorflow/python/keras/engine/training.py:855 train_function  *\n        return step_function(self, iterator)\n    /usr/local/lib/python3.7/dist-packages/tensorflow/python/keras/engine/training.py:845 step_function  **\n        outputs = model.distribute_strategy.run(run_step, args=(data,))\n    /usr/local/lib/python3.7/dist-packages/tensorflow/python/distribute/distribute_lib.py:1285 run\n        return self._extended.call_for_each_replica(fn, args=args, kwargs=kwargs)\n    /usr/local/lib/python3.7/dist-packages/tensorflow/python/distribute/distribute_lib.py:2833 call_for_each_replica\n        return self._call_for_each_replica(fn, args, kwargs)\n    /usr/local/lib/python3.7/dist-packages/tensorflow/python/distribute/distribute_lib.py:3608 _call_for_each_replica\n        return fn(*args, **kwargs)\n    /usr/local/lib/python3.7/dist-packages/tensorflow/python/keras/engine/training.py:838 run_step  **\n        outputs = model.train_step(data)\n    /usr/local/lib/python3.7/dist-packages/tensorflow/python/keras/engine/training.py:799 train_step\n        self.optimizer.minimize(loss, self.trainable_variables, tape=tape)\n    /usr/local/lib/python3.7/dist-packages/tensorflow/python/keras/optimizer_v2/optimizer_v2.py:530 minimize\n        return self.apply_gradients(grads_and_vars, name=name)\n    /usr/local/lib/python3.7/dist-packages/tensorflow/python/keras/optimizer_v2/optimizer_v2.py:630 apply_gradients\n        grads_and_vars = optimizer_utils.filter_empty_gradients(grads_and_vars)\n    /usr/local/lib/python3.7/dist-packages/tensorflow/python/keras/optimizer_v2/utils.py:76 filter_empty_gradients\n        ([v.name for _, v in grads_and_vars],))\n\n    ValueError: No gradients provided for any variable: ['conv2d/kernel:0', 'conv2d/bias:0', 'batch_normalization/gamma:0', 'batch_normalization/beta:0', 'conv2d_1/kernel:0', 'conv2d_1/bias:0', 'batch_normalization_1/gamma:0', 'batch_normalization_1/beta:0', 'conv2d_2/kernel:0', 'conv2d_2/bias:0', 'batch_normalization_2/gamma:0', 'batch_normalization_2/beta:0', 'conv2d_3/kernel:0', 'conv2d_3/bias:0', 'batch_normalization_3/gamma:0', 'batch_normalization_3/beta:0', 'conv2d_4/kernel:0', 'conv2d_4/bias:0', 'batch_normalization_4/gamma:0', 'batch_normalization_4/beta:0', 'dense/kernel:0', 'dense/bias:0', 'batch_normalization_5/gamma:0', 'batch_normalization_5/beta:0', 'dense_1/kernel:0', 'dense_1/bias:0', 'batch_normalization_6/gamma:0', 'batch_normalization_6/beta:0', 'dense_2/kernel:0', 'dense_2/bias:0', 'batch_normalization_7/gamma:0', 'batch_normalization_7/beta:0', 'dense_3/kernel:0', 'dense_3/bias:0'].\n"
          ]
        }
      ]
    },
    {
      "cell_type": "code",
      "metadata": {
        "colab": {
          "base_uri": "https://localhost:8080/"
        },
        "id": "dsH9i9soWIu3",
        "outputId": "0bd0560c-42ef-40fb-fc89-785a98382838"
      },
      "source": [
        "model.fit(\n",
        "    x=trian_images,\n",
        "    y=trian_labels,\n",
        "    batch_size=32,\n",
        "    epochs=26,\n",
        "    verbose=1,\n",
        "    callbacks=None,\n",
        "    validation_split=0.6,\n",
        "    validation_data=(x_val,y_val),\n",
        "    shuffle=True,\n",
        "    class_weight=None,\n",
        "    sample_weight=None,\n",
        "    initial_epoch=1,\n",
        "    steps_per_epoch=2,\n",
        "    validation_steps=None,\n",
        "    validation_batch_size=None,\n",
        "    validation_freq=1,\n",
        "    max_queue_size=10,\n",
        "    workers=1,\n",
        "    use_multiprocessing=False,\n",
        ")"
      ],
      "execution_count": 185,
      "outputs": [
        {
          "output_type": "stream",
          "text": [
            "Epoch 2/26\n",
            "2/2 [==============================] - 0s 199ms/step - loss: 0.9943 - accuracy: 0.6719 - val_loss: 1228.0833 - val_accuracy: 0.4737\n",
            "Epoch 3/26\n",
            "2/2 [==============================] - 0s 140ms/step - loss: 0.6530 - accuracy: 0.7727 - val_loss: 1046.9625 - val_accuracy: 0.4737\n",
            "Epoch 4/26\n",
            "2/2 [==============================] - 0s 109ms/step - loss: 1.0382 - accuracy: 0.6136 - val_loss: 940.1491 - val_accuracy: 0.4737\n",
            "Epoch 5/26\n",
            "2/2 [==============================] - 0s 123ms/step - loss: 0.6010 - accuracy: 0.7656 - val_loss: 553.7449 - val_accuracy: 0.4737\n",
            "Epoch 6/26\n",
            "2/2 [==============================] - 0s 123ms/step - loss: 0.8983 - accuracy: 0.6136 - val_loss: 87.6084 - val_accuracy: 0.7281\n",
            "Epoch 7/26\n",
            "2/2 [==============================] - 0s 115ms/step - loss: 0.7181 - accuracy: 0.6591 - val_loss: 476.1541 - val_accuracy: 0.5263\n",
            "Epoch 8/26\n",
            "2/2 [==============================] - 0s 128ms/step - loss: 0.5841 - accuracy: 0.7344 - val_loss: 786.7585 - val_accuracy: 0.5263\n",
            "Epoch 9/26\n",
            "2/2 [==============================] - 0s 119ms/step - loss: 0.8040 - accuracy: 0.6136 - val_loss: 836.9584 - val_accuracy: 0.5263\n",
            "Epoch 10/26\n",
            "2/2 [==============================] - 0s 112ms/step - loss: 0.7105 - accuracy: 0.6364 - val_loss: 823.5566 - val_accuracy: 0.5263\n",
            "Epoch 11/26\n",
            "2/2 [==============================] - 0s 125ms/step - loss: 0.5569 - accuracy: 0.7812 - val_loss: 777.2933 - val_accuracy: 0.5263\n",
            "Epoch 12/26\n",
            "2/2 [==============================] - 0s 124ms/step - loss: 0.8394 - accuracy: 0.6818 - val_loss: 658.1146 - val_accuracy: 0.5263\n",
            "Epoch 13/26\n",
            "2/2 [==============================] - 0s 119ms/step - loss: 0.7855 - accuracy: 0.7273 - val_loss: 490.4769 - val_accuracy: 0.5263\n",
            "Epoch 14/26\n",
            "2/2 [==============================] - 0s 127ms/step - loss: 0.7928 - accuracy: 0.7031 - val_loss: 361.3142 - val_accuracy: 0.5263\n",
            "Epoch 15/26\n",
            "2/2 [==============================] - 0s 120ms/step - loss: 0.6303 - accuracy: 0.8182 - val_loss: 219.7627 - val_accuracy: 0.5263\n",
            "Epoch 16/26\n",
            "2/2 [==============================] - 0s 115ms/step - loss: 0.7094 - accuracy: 0.6818 - val_loss: 128.1211 - val_accuracy: 0.5263\n",
            "Epoch 17/26\n",
            "2/2 [==============================] - 0s 135ms/step - loss: 0.6136 - accuracy: 0.7188 - val_loss: 88.3713 - val_accuracy: 0.5263\n",
            "Epoch 18/26\n",
            "2/2 [==============================] - 0s 127ms/step - loss: 0.5363 - accuracy: 0.8182 - val_loss: 88.8588 - val_accuracy: 0.5263\n",
            "Epoch 19/26\n",
            "2/2 [==============================] - 0s 114ms/step - loss: 0.7756 - accuracy: 0.6364 - val_loss: 89.2767 - val_accuracy: 0.5263\n",
            "Epoch 20/26\n",
            "2/2 [==============================] - 0s 127ms/step - loss: 0.6055 - accuracy: 0.6875 - val_loss: 94.0251 - val_accuracy: 0.5614\n",
            "Epoch 21/26\n",
            "2/2 [==============================] - 0s 122ms/step - loss: 0.6001 - accuracy: 0.7273 - val_loss: 97.1102 - val_accuracy: 0.4737\n",
            "Epoch 22/26\n",
            "2/2 [==============================] - 0s 112ms/step - loss: 0.4838 - accuracy: 0.7955 - val_loss: 98.6640 - val_accuracy: 0.4737\n",
            "Epoch 23/26\n",
            "2/2 [==============================] - 0s 126ms/step - loss: 0.7999 - accuracy: 0.6562 - val_loss: 91.2296 - val_accuracy: 0.4737\n",
            "Epoch 24/26\n",
            "2/2 [==============================] - 0s 125ms/step - loss: 0.5607 - accuracy: 0.7500 - val_loss: 82.0798 - val_accuracy: 0.4737\n",
            "Epoch 25/26\n",
            "2/2 [==============================] - 0s 111ms/step - loss: 0.5161 - accuracy: 0.8182 - val_loss: 69.1180 - val_accuracy: 0.6930\n",
            "Epoch 26/26\n",
            "2/2 [==============================] - 0s 135ms/step - loss: 0.5374 - accuracy: 0.7344 - val_loss: 58.7732 - val_accuracy: 0.8772\n"
          ],
          "name": "stdout"
        },
        {
          "output_type": "execute_result",
          "data": {
            "text/plain": [
              "<tensorflow.python.keras.callbacks.History at 0x7fa314635d90>"
            ]
          },
          "metadata": {
            "tags": []
          },
          "execution_count": 185
        }
      ]
    },
    {
      "cell_type": "code",
      "metadata": {
        "colab": {
          "base_uri": "https://localhost:8080/"
        },
        "id": "uVz-QiVrbwV4",
        "outputId": "40fa3e89-ab55-47f6-9625-dd5afb2f1eab"
      },
      "source": [
        "model.evaluate(\n",
        "    x=test_images,\n",
        "    y=test_labels,\n",
        "    batch_size=None,\n",
        "    verbose=0,\n",
        "    sample_weight=None,\n",
        "    steps=None,\n",
        "    callbacks=None,\n",
        "    max_queue_size=10,\n",
        "    workers=1,\n",
        "    use_multiprocessing=False,\n",
        "    return_dict=False,\n",
        "   \n",
        ")"
      ],
      "execution_count": 186,
      "outputs": [
        {
          "output_type": "execute_result",
          "data": {
            "text/plain": [
              "[63.58732986450195, 0.699999988079071]"
            ]
          },
          "metadata": {
            "tags": []
          },
          "execution_count": 186
        }
      ]
    },
    {
      "cell_type": "code",
      "metadata": {
        "id": "Btwo6-yUZUwE"
      },
      "source": [
        "img=cv2.imread('/content/drive/MyDrive/Colab Notebooks/kaggle_dataset/dataset/unhappy/1.jpg')\n",
        "img=cv2.resize(img,(227,227))"
      ],
      "execution_count": 193,
      "outputs": []
    },
    {
      "cell_type": "code",
      "metadata": {
        "id": "C1NT1OxPZmK5"
      },
      "source": [
        "images=np.array(img)"
      ],
      "execution_count": 194,
      "outputs": []
    },
    {
      "cell_type": "code",
      "metadata": {
        "id": "NlAHziBTZmZW"
      },
      "source": [
        "images=images.astype('float32')/255.0"
      ],
      "execution_count": 195,
      "outputs": []
    },
    {
      "cell_type": "code",
      "metadata": {
        "id": "sQ-hBzaYc4jA"
      },
      "source": [
        "img=tf.reshape(images,shape=[-1,227,227,3])"
      ],
      "execution_count": 196,
      "outputs": []
    },
    {
      "cell_type": "code",
      "metadata": {
        "id": "1od1kztiW7mk"
      },
      "source": [
        "pre=model.predict(img)"
      ],
      "execution_count": 197,
      "outputs": []
    },
    {
      "cell_type": "code",
      "metadata": {
        "colab": {
          "base_uri": "https://localhost:8080/"
        },
        "id": "PBZ85yjHZ-wI",
        "outputId": "5c1d47c4-00f0-4e8c-8bd8-8c0f87f44830"
      },
      "source": [
        "pre"
      ],
      "execution_count": 199,
      "outputs": [
        {
          "output_type": "execute_result",
          "data": {
            "text/plain": [
              "array([[1., 1.]], dtype=float32)"
            ]
          },
          "metadata": {
            "tags": []
          },
          "execution_count": 199
        }
      ]
    },
    {
      "cell_type": "code",
      "metadata": {
        "id": "-mbEdv7TadRH"
      },
      "source": [
        ""
      ],
      "execution_count": 169,
      "outputs": []
    }
  ]
}